{
 "cells": [
  {
   "cell_type": "code",
   "execution_count": 1,
   "metadata": {},
   "outputs": [],
   "source": [
    "import numpy as np\n",
    "import pandas as pd\n",
    "import tensorflow as tf\n",
    "from tensorflow import keras\n",
    "import os\n",
    "from tensorflow.keras.layers import Dense,Activation,Dropout,Flatten\n",
    "from tensorflow.keras.models import Sequential\n",
    "from tensorflow.keras.optimizers import Adam"
   ]
  },
  {
   "cell_type": "code",
   "execution_count": 2,
   "metadata": {},
   "outputs": [
    {
     "name": "stdout",
     "output_type": "stream",
     "text": [
      "Model: \"sequential\"\n",
      "_________________________________________________________________\n",
      "Layer (type)                 Output Shape              Param #   \n",
      "=================================================================\n",
      "dense (Dense)                (None, 1200)              1802400   \n",
      "_________________________________________________________________\n",
      "dense_1 (Dense)              (None, 750)               900750    \n",
      "_________________________________________________________________\n",
      "dense_2 (Dense)              (None, 500)               375500    \n",
      "_________________________________________________________________\n",
      "dense_3 (Dense)              (None, 300)               150300    \n",
      "_________________________________________________________________\n",
      "dense_4 (Dense)              (None, 150)               45150     \n",
      "_________________________________________________________________\n",
      "dense_5 (Dense)              (None, 75)                11325     \n",
      "_________________________________________________________________\n",
      "dense_6 (Dense)              (None, 25)                1900      \n",
      "_________________________________________________________________\n",
      "dense_7 (Dense)              (None, 6)                 156       \n",
      "=================================================================\n",
      "Total params: 3,287,481\n",
      "Trainable params: 3,287,481\n",
      "Non-trainable params: 0\n",
      "_________________________________________________________________\n"
     ]
    }
   ],
   "source": [
    "model = Sequential([\n",
    "    Dense(units = 1200, input_shape = (1501,), activation = 'relu'),\n",
    "    Dense(units = 750, activation = 'relu'),\n",
    "    Dense(units = 500, activation = 'relu'),\n",
    "    Dense(units = 300, activation = 'relu'),\n",
    "    Dense(units = 150, activation = 'relu'),\n",
    "    #Dense(units = 75, activation = 'relu'),\n",
    "    Dense(units = 25, activation = 'relu'),\n",
    "    Dense(units = 6),\n",
    "])\n",
    "model.summary()"
   ]
  },
  {
   "cell_type": "code",
   "execution_count": 3,
   "metadata": {},
   "outputs": [],
   "source": [
    "x = []\n",
    "y = []\n",
    "data_path=r'C:\\Users\\Rohit Varre\\Desktop\\Project Spidy'\n",
    "categories=os.listdir(data_path)\n",
    "for folder in categories:\n",
    "    if folder == 'stress':\n",
    "        folder_path=os.path.join(data_path,folder)\n",
    "        data=os.listdir(folder_path)\n",
    "        for dat in data:\n",
    "            temp_path = os.path.join(folder_path,dat)\n",
    "            temp = pd.read_csv(temp_path)\n",
    "            temp = temp.iloc[7:]\n",
    "            temp.drop('% Model', axis = 1,inplace= True)\n",
    "            temp.columns = ['']\n",
    "            x.append(temp.to_numpy())\n",
    "    else:\n",
    "        folder_path=os.path.join(data_path,folder)\n",
    "        data=os.listdir(folder_path)\n",
    "        for dat in data:\n",
    "            temp_path = os.path.join(folder_path,dat)\n",
    "            temp = pd.read_csv(temp_path)\n",
    "            temp.columns = ['']\n",
    "            temp = temp.drop([2],axis=0)\n",
    "            y.append(temp.to_numpy())"
   ]
  },
  {
   "cell_type": "code",
   "execution_count": 4,
   "metadata": {},
   "outputs": [
    {
     "name": "stdout",
     "output_type": "stream",
     "text": [
      "(1355, 1501) (1355, 6)\n"
     ]
    }
   ],
   "source": [
    "x = np.array(x)\n",
    "y = np.array(y)\n",
    "x = x.astype(np.float)\n",
    "y = y.astype(np.float)\n",
    "x = x.reshape(-1,1501)\n",
    "y = y.reshape(-1,6)\n",
    "print(x.shape,y.shape)\n",
    "from sklearn.model_selection import train_test_split\n",
    "x_train,x_test,y_train,y_test = train_test_split(x,y,test_size=0.2)"
   ]
  },
  {
   "cell_type": "code",
   "execution_count": 5,
   "metadata": {},
   "outputs": [
    {
     "name": "stdout",
     "output_type": "stream",
     "text": [
      "Train on 867 samples, validate on 217 samples\n",
      "Epoch 1/50\n",
      "867/867 - 3s - loss: 30351814439.8616 - accuracy: 0.0692 - val_loss: 274162742.5622 - val_accuracy: 0.0046\n",
      "Epoch 2/50\n",
      "867/867 - 2s - loss: 3837495339.5236 - accuracy: 0.0784 - val_loss: 104335978.3226 - val_accuracy: 0.1152\n",
      "Epoch 3/50\n",
      "867/867 - 2s - loss: 833782012.2376 - accuracy: 0.0807 - val_loss: 75758904.2581 - val_accuracy: 0.1152\n",
      "Epoch 4/50\n",
      "867/867 - 2s - loss: 502167775.5502 - accuracy: 0.1096 - val_loss: 35683550.2304 - val_accuracy: 0.1336\n",
      "Epoch 5/50\n",
      "867/867 - 2s - loss: 368019756.2907 - accuracy: 0.1073 - val_loss: 21912599.5945 - val_accuracy: 0.1382\n",
      "Epoch 6/50\n",
      "867/867 - 2s - loss: 342660278.0484 - accuracy: 0.1050 - val_loss: 19224315.1152 - val_accuracy: 0.1106\n",
      "Epoch 7/50\n",
      "867/867 - 2s - loss: 697459983.1211 - accuracy: 0.1361 - val_loss: 19178758.8848 - val_accuracy: 0.1152\n",
      "Epoch 8/50\n",
      "867/867 - 2s - loss: 737312376.4181 - accuracy: 0.1073 - val_loss: 19566746.8203 - val_accuracy: 0.1797\n",
      "Epoch 9/50\n",
      "867/867 - 2s - loss: 564266173.0029 - accuracy: 0.1719 - val_loss: 33302576.3687 - val_accuracy: 0.0645\n",
      "Epoch 10/50\n",
      "867/867 - 2s - loss: 694352472.5911 - accuracy: 0.1672 - val_loss: 26854767.0230 - val_accuracy: 0.1982\n",
      "Epoch 11/50\n",
      "867/867 - 2s - loss: 362720129.4977 - accuracy: 0.2030 - val_loss: 27925615.1521 - val_accuracy: 0.1060\n",
      "Epoch 12/50\n",
      "867/867 - 2s - loss: 442520621.6375 - accuracy: 0.1557 - val_loss: 34524002.5530 - val_accuracy: 0.2166\n",
      "Epoch 13/50\n",
      "867/867 - 1s - loss: 261277648.2491 - accuracy: 0.2042 - val_loss: 17368009.6498 - val_accuracy: 0.2212\n",
      "Epoch 14/50\n",
      "867/867 - 1s - loss: 202467867.6298 - accuracy: 0.2180 - val_loss: 11130360.8387 - val_accuracy: 0.1336\n",
      "Epoch 15/50\n",
      "867/867 - 1s - loss: 183765483.7105 - accuracy: 0.1926 - val_loss: 18767406.1935 - val_accuracy: 0.2166\n",
      "Epoch 16/50\n",
      "867/867 - 1s - loss: 360551250.3153 - accuracy: 0.2088 - val_loss: 13623129.0599 - val_accuracy: 0.3041\n",
      "Epoch 17/50\n",
      "867/867 - 2s - loss: 732262591.2411 - accuracy: 0.2030 - val_loss: 7288017.9124 - val_accuracy: 0.0922\n",
      "Epoch 18/50\n",
      "867/867 - 2s - loss: 354689103.1234 - accuracy: 0.1569 - val_loss: 4096920.3180 - val_accuracy: 0.2258\n",
      "Epoch 19/50\n",
      "867/867 - 2s - loss: 489943620.2252 - accuracy: 0.2065 - val_loss: 2585702.7074 - val_accuracy: 0.2258\n",
      "Epoch 20/50\n",
      "867/867 - 2s - loss: 479837475.2211 - accuracy: 0.2076 - val_loss: 2165536.5282 - val_accuracy: 0.2949\n",
      "Epoch 21/50\n",
      "867/867 - 1s - loss: 341697382.4879 - accuracy: 0.2388 - val_loss: 664680.7229 - val_accuracy: 0.3180\n",
      "Epoch 22/50\n",
      "867/867 - 1s - loss: 94599957.9539 - accuracy: 0.2618 - val_loss: 474215.4211 - val_accuracy: 0.2949\n",
      "Epoch 23/50\n",
      "867/867 - 2s - loss: 68489264.8748 - accuracy: 0.2584 - val_loss: 256074.7035 - val_accuracy: 0.2811\n",
      "Epoch 24/50\n",
      "867/867 - 1s - loss: 92015469.9729 - accuracy: 0.2388 - val_loss: 349277.1724 - val_accuracy: 0.3134\n",
      "Epoch 25/50\n",
      "867/867 - 1s - loss: 160089720.0640 - accuracy: 0.2468 - val_loss: 339982.5463 - val_accuracy: 0.2903\n",
      "Epoch 26/50\n",
      "867/867 - 1s - loss: 190655028.0783 - accuracy: 0.2411 - val_loss: 269222.5492 - val_accuracy: 0.2765\n",
      "Epoch 27/50\n",
      "867/867 - 1s - loss: 215880832.2319 - accuracy: 0.2249 - val_loss: 209818.2125 - val_accuracy: 0.2765\n",
      "Epoch 28/50\n",
      "867/867 - 1s - loss: 111210720.2920 - accuracy: 0.2399 - val_loss: 159303.4485 - val_accuracy: 0.3088\n",
      "Epoch 29/50\n",
      "867/867 - 1s - loss: 54763410.0042 - accuracy: 0.2307 - val_loss: 93494.8591 - val_accuracy: 0.2995\n",
      "Epoch 30/50\n",
      "867/867 - 1s - loss: 46265415.2965 - accuracy: 0.2341 - val_loss: 51916.6377 - val_accuracy: 0.2903\n",
      "Epoch 31/50\n",
      "867/867 - 1s - loss: 20498969.5382 - accuracy: 0.2364 - val_loss: 36029.8093 - val_accuracy: 0.2903\n",
      "Epoch 32/50\n",
      "867/867 - 1s - loss: 14931091.9708 - accuracy: 0.2318 - val_loss: 25851.0620 - val_accuracy: 0.2903\n",
      "Epoch 33/50\n",
      "867/867 - 2s - loss: 11884835.5762 - accuracy: 0.2364 - val_loss: 18797.3678 - val_accuracy: 0.2995\n",
      "Epoch 34/50\n",
      "867/867 - 1s - loss: 9939290.9941 - accuracy: 0.2341 - val_loss: 16882.1345 - val_accuracy: 0.2949\n",
      "Epoch 35/50\n",
      "867/867 - 1s - loss: 10027346.5696 - accuracy: 0.2376 - val_loss: 11977.1921 - val_accuracy: 0.2903\n",
      "Epoch 36/50\n",
      "867/867 - 1s - loss: 10376757.1491 - accuracy: 0.2353 - val_loss: 12210.8530 - val_accuracy: 0.2903\n",
      "Epoch 37/50\n",
      "867/867 - 1s - loss: 8984652.3609 - accuracy: 0.2330 - val_loss: 11327.5287 - val_accuracy: 0.2903\n",
      "Epoch 38/50\n",
      "867/867 - 2s - loss: 8484481.6746 - accuracy: 0.2330 - val_loss: 10420.2844 - val_accuracy: 0.2903\n",
      "Epoch 39/50\n",
      "867/867 - 2s - loss: 12067986.7131 - accuracy: 0.2376 - val_loss: 7717.7673 - val_accuracy: 0.2903\n",
      "Epoch 40/50\n",
      "867/867 - 2s - loss: 28433435.3912 - accuracy: 0.2376 - val_loss: 21162.7338 - val_accuracy: 0.3041\n",
      "Epoch 41/50\n",
      "867/867 - 1s - loss: 19536434.4837 - accuracy: 0.2411 - val_loss: 8774.9249 - val_accuracy: 0.2995\n",
      "Epoch 42/50\n",
      "867/867 - 1s - loss: 30934923.1927 - accuracy: 0.2376 - val_loss: 47649.8313 - val_accuracy: 0.2995\n",
      "Epoch 43/50\n",
      "867/867 - 1s - loss: 36330182.2323 - accuracy: 0.2364 - val_loss: 3149.7011 - val_accuracy: 0.2949\n",
      "Epoch 44/50\n",
      "867/867 - 1s - loss: 53966425.3736 - accuracy: 0.2364 - val_loss: 3727.7483 - val_accuracy: 0.2949\n",
      "Epoch 45/50\n",
      "867/867 - 1s - loss: 27696698.0986 - accuracy: 0.2353 - val_loss: 2922.9523 - val_accuracy: 0.2857\n",
      "Epoch 46/50\n",
      "867/867 - 1s - loss: 30618212.9137 - accuracy: 0.2376 - val_loss: 4329.9120 - val_accuracy: 0.2995\n",
      "Epoch 47/50\n",
      "867/867 - 1s - loss: 17206768.4724 - accuracy: 0.2364 - val_loss: 2066.6388 - val_accuracy: 0.2995\n",
      "Epoch 48/50\n",
      "867/867 - 1s - loss: 10640844.1457 - accuracy: 0.2399 - val_loss: 3983.3520 - val_accuracy: 0.2995\n",
      "Epoch 49/50\n",
      "867/867 - 1s - loss: 6137810.8576 - accuracy: 0.2445 - val_loss: 2143.4290 - val_accuracy: 0.2995\n",
      "Epoch 50/50\n",
      "867/867 - 1s - loss: 12868814.9323 - accuracy: 0.2399 - val_loss: 1755.5561 - val_accuracy: 0.2995\n"
     ]
    }
   ],
   "source": [
    "model.compile(optimizer=Adam(lr=0.00001), loss='mean_squared_error', metrics = ['accuracy'])\n",
    "history = model.fit(x=x_train,y=y_train,epochs=50,verbose=2,validation_split=0.2,batch_size=16)"
   ]
  },
  {
   "cell_type": "code",
   "execution_count": 6,
   "metadata": {},
   "outputs": [
    {
     "name": "stdout",
     "output_type": "stream",
     "text": [
      "271/271 [==============================] - 0s 359us/sample - loss: 29025319.1626 - accuracy: 0.2583\n"
     ]
    },
    {
     "data": {
      "text/plain": [
       "[29025319.16264511, 0.25830257]"
      ]
     },
     "execution_count": 6,
     "metadata": {},
     "output_type": "execute_result"
    }
   ],
   "source": [
    "model.evaluate(x=x_test,y=y_test)"
   ]
  },
  {
   "cell_type": "code",
   "execution_count": 7,
   "metadata": {},
   "outputs": [
    {
     "data": {
      "image/png": "[encoded data removed]",
      "text/plain": [
       "<Figure size 432x288 with 1 Axes>"
      ]
     },
     "metadata": {
      "needs_background": "light"
     },
     "output_type": "display_data"
    }
   ],
   "source": [
    "import matplotlib.pyplot as plt\n",
    "loss = history.history['loss']\n",
    "val_loss = history.history['val_loss']\n",
    "epochs = range(1,51)\n",
    "plt.plot(epochs, loss, 'g', label='loss')\n",
    "plt.plot(epochs, val_loss, 'r', label='val_loss')\n",
    "plt.xlabel('Epochs')\n",
    "plt.ylabel('Loss')\n",
    "plt.legend()\n",
    "plt.show()"
   ]
  },
  {
   "cell_type": "code",
   "execution_count": 8,
   "metadata": {},
   "outputs": [
    {
     "data": {
      "image/png": "[encoded data removed]",
      "text/plain": [
       "<Figure size 432x288 with 1 Axes>"
      ]
     },
     "metadata": {
      "needs_background": "light"
     },
     "output_type": "display_data"
    }
   ],
   "source": [
    "import matplotlib.pyplot as plt\n",
    "accuracy = history.history['accuracy']\n",
    "val_accuracy = history.history['val_accuracy']\n",
    "epochs = range(1,51)\n",
    "plt.plot(epochs, accuracy, 'g', label='accuracy')\n",
    "plt.plot(epochs, val_accuracy, 'r', label='val_accuracy')\n",
    "plt.xlabel('Epochs')\n",
    "plt.ylabel('accuracy')\n",
    "plt.legend()\n",
    "plt.show()"
   ]
  },
  {
   "cell_type": "code",
   "execution_count": null,
   "metadata": {},
   "outputs": [],
   "source": []
  }
 ],
 "metadata": {
  "kernelspec": {
   "display_name": "Python 3",
   "language": "python",
   "name": "python3"
  },
  "language_info": {
   "codemirror_mode": {
    "name": "ipython",
    "version": 3
   },
   "file_extension": ".py",
   "mimetype": "text/x-python",
   "name": "python",
   "nbconvert_exporter": "python",
   "pygments_lexer": "ipython3",
   "version": "3.7.6"
  }
 },
 "nbformat": 4,
 "nbformat_minor": 4
}
