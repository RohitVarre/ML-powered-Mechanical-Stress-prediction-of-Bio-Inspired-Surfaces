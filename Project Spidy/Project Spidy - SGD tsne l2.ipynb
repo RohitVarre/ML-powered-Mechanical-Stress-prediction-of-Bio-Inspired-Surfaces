{
 "cells": [
  {
   "cell_type": "code",
   "execution_count": 1,
   "metadata": {},
   "outputs": [
    {
     "ename": "ModuleNotFoundError",
     "evalue": "No module named 'tensorflow.python.tools'; 'tensorflow.python' is not a package",
     "output_type": "error",
     "traceback": [
      "\u001b[1;31m---------------------------------------------------------------------------\u001b[0m",
      "\u001b[1;31mModuleNotFoundError\u001b[0m                       Traceback (most recent call last)",
      "\u001b[1;32m<ipython-input-1-c9932820df50>\u001b[0m in \u001b[0;36m<module>\u001b[1;34m\u001b[0m\n\u001b[0;32m      1\u001b[0m \u001b[1;32mimport\u001b[0m \u001b[0mnumpy\u001b[0m \u001b[1;32mas\u001b[0m \u001b[0mnp\u001b[0m\u001b[1;33m\u001b[0m\u001b[1;33m\u001b[0m\u001b[0m\n\u001b[0;32m      2\u001b[0m \u001b[1;32mimport\u001b[0m \u001b[0mpandas\u001b[0m \u001b[1;32mas\u001b[0m \u001b[0mpd\u001b[0m\u001b[1;33m\u001b[0m\u001b[1;33m\u001b[0m\u001b[0m\n\u001b[1;32m----> 3\u001b[1;33m \u001b[1;32mimport\u001b[0m \u001b[0mtensorflow\u001b[0m \u001b[1;32mas\u001b[0m \u001b[0mtf\u001b[0m\u001b[1;33m\u001b[0m\u001b[1;33m\u001b[0m\u001b[0m\n\u001b[0m\u001b[0;32m      4\u001b[0m \u001b[1;32mfrom\u001b[0m \u001b[0mtensorflow\u001b[0m \u001b[1;32mimport\u001b[0m \u001b[0mkeras\u001b[0m\u001b[1;33m\u001b[0m\u001b[1;33m\u001b[0m\u001b[0m\n\u001b[0;32m      5\u001b[0m \u001b[1;32mimport\u001b[0m \u001b[0mos\u001b[0m\u001b[1;33m\u001b[0m\u001b[1;33m\u001b[0m\u001b[0m\n",
      "\u001b[1;32m~\\miniconda3\\lib\\site-packages\\tensorflow\\__init__.py\u001b[0m in \u001b[0;36m<module>\u001b[1;34m\u001b[0m\n\u001b[0;32m     99\u001b[0m \u001b[1;33m\u001b[0m\u001b[0m\n\u001b[0;32m    100\u001b[0m \u001b[1;31m# We still need all the names that are toplevel on tensorflow_core\u001b[0m\u001b[1;33m\u001b[0m\u001b[1;33m\u001b[0m\u001b[1;33m\u001b[0m\u001b[0m\n\u001b[1;32m--> 101\u001b[1;33m \u001b[1;32mfrom\u001b[0m \u001b[0mtensorflow_core\u001b[0m \u001b[1;32mimport\u001b[0m \u001b[1;33m*\u001b[0m\u001b[1;33m\u001b[0m\u001b[1;33m\u001b[0m\u001b[0m\n\u001b[0m\u001b[0;32m    102\u001b[0m \u001b[1;33m\u001b[0m\u001b[0m\n\u001b[0;32m    103\u001b[0m \u001b[1;31m# These should not be visible in the main tf module.\u001b[0m\u001b[1;33m\u001b[0m\u001b[1;33m\u001b[0m\u001b[1;33m\u001b[0m\u001b[0m\n",
      "\u001b[1;32m~\\miniconda3\\lib\\site-packages\\tensorflow_core\\__init__.py\u001b[0m in \u001b[0;36m<module>\u001b[1;34m\u001b[0m\n\u001b[0;32m     38\u001b[0m \u001b[1;32mimport\u001b[0m \u001b[0msys\u001b[0m \u001b[1;32mas\u001b[0m \u001b[0m_sys\u001b[0m\u001b[1;33m\u001b[0m\u001b[1;33m\u001b[0m\u001b[0m\n\u001b[0;32m     39\u001b[0m \u001b[1;33m\u001b[0m\u001b[0m\n\u001b[1;32m---> 40\u001b[1;33m \u001b[1;32mfrom\u001b[0m \u001b[0mtensorflow\u001b[0m\u001b[1;33m.\u001b[0m\u001b[0mpython\u001b[0m\u001b[1;33m.\u001b[0m\u001b[0mtools\u001b[0m \u001b[1;32mimport\u001b[0m \u001b[0mmodule_util\u001b[0m \u001b[1;32mas\u001b[0m \u001b[0m_module_util\u001b[0m\u001b[1;33m\u001b[0m\u001b[1;33m\u001b[0m\u001b[0m\n\u001b[0m\u001b[0;32m     41\u001b[0m \u001b[1;33m\u001b[0m\u001b[0m\n\u001b[0;32m     42\u001b[0m \u001b[1;32mfrom\u001b[0m \u001b[1;33m.\u001b[0m \u001b[0m_api\u001b[0m\u001b[1;33m.\u001b[0m\u001b[0mv2\u001b[0m \u001b[1;32mimport\u001b[0m \u001b[0maudio\u001b[0m\u001b[1;33m\u001b[0m\u001b[1;33m\u001b[0m\u001b[0m\n",
      "\u001b[1;31mModuleNotFoundError\u001b[0m: No module named 'tensorflow.python.tools'; 'tensorflow.python' is not a package"
     ]
    }
   ],
   "source": [
    "import numpy as np\n",
    "import pandas as pd\n",
    "import tensorflow as tf\n",
    "from tensorflow import keras\n",
    "import os\n",
    "from tensorflow.keras.layers import Dense,Activation,Dropout,Flatten,BatchNormalization\n",
    "from tensorflow.keras.models import Sequential\n",
    "from tensorflow.keras.optimizers import SGD\n",
    "from tensorflow.keras.metrics import RootMeanSquaredError\n",
    "from sklearn.manifold import TSNE\n",
    "from sklearn.decomposition import PCA\n",
    "from sklearn.metrics import explained_variance_score\n",
    "import matplotlib.pyplot as plt"
   ]
  },
  {
   "cell_type": "code",
   "execution_count": 2,
   "metadata": {},
   "outputs": [
    {
     "name": "stdout",
     "output_type": "stream",
     "text": [
      "Model: \"sequential\"\n",
      "_________________________________________________________________\n",
      "Layer (type)                 Output Shape              Param #   \n",
      "=================================================================\n",
      "dense (Dense)                (None, 45)                1395      \n",
      "_________________________________________________________________\n",
      "dense_1 (Dense)              (None, 60)                2760      \n",
      "_________________________________________________________________\n",
      "dense_2 (Dense)              (None, 90)                5490      \n",
      "_________________________________________________________________\n",
      "dense_3 (Dense)              (None, 120)               10920     \n",
      "_________________________________________________________________\n",
      "dense_4 (Dense)              (None, 60)                7260      \n",
      "_________________________________________________________________\n",
      "dense_5 (Dense)              (None, 30)                1830      \n",
      "_________________________________________________________________\n",
      "dense_6 (Dense)              (None, 6)                 186       \n",
      "=================================================================\n",
      "Total params: 29,841\n",
      "Trainable params: 29,841\n",
      "Non-trainable params: 0\n",
      "_________________________________________________________________\n"
     ]
    }
   ],
   "source": [
    "model = Sequential([\n",
    "\n",
    "    Dense(units = 45, input_shape = (30,), activation = 'relu'),\n",
    "    #BatchNormalization(),\n",
    "    Dense(units = 60, activation = 'relu'),\n",
    "    #BatchNormalization(),\n",
    "    Dense(units = 90, activation = 'relu',kernel_regularizer = keras.regularizers.l2(0.001)),\n",
    "    Dense(units = 120, activation = 'relu',kernel_regularizer = keras.regularizers.l2(0.001)),\n",
    "    Dense(units = 60, activation = 'relu'),\n",
    "    Dense(units = 30, activation = 'relu'),\n",
    "    Dense(units = 6),\n",
    "])\n",
    "model.summary()"
   ]
  },
  {
   "cell_type": "code",
   "execution_count": 4,
   "metadata": {},
   "outputs": [],
   "source": [
    "x = []\n",
    "y = []\n",
    "data_path=r'C:\\Users\\Rohit Varre\\Desktop\\Project Spidy'\n",
    "categories=os.listdir(data_path)\n",
    "for folder in categories:\n",
    "    if folder == 'stress':\n",
    "        folder_path=os.path.join(data_path,folder)\n",
    "        data=os.listdir(folder_path)\n",
    "        for dat in data:\n",
    "            temp_path = os.path.join(folder_path,dat)\n",
    "            temp = pd.read_csv(temp_path)\n",
    "            temp = temp.iloc[7:]\n",
    "            temp.drop('% Model', axis = 1,inplace= True)\n",
    "            temp.columns = ['']\n",
    "            x.append(temp.to_numpy())\n",
    "    if folder == 'curve':\n",
    "        folder_path=os.path.join(data_path,folder)\n",
    "        data=os.listdir(folder_path)\n",
    "        for dat in data:\n",
    "            temp_path = os.path.join(folder_path,dat)\n",
    "            temp = pd.read_csv(temp_path)\n",
    "            temp.columns = ['']\n",
    "            temp = temp.drop([2],axis=0)\n",
    "            y.append(temp.to_numpy())"
   ]
  },
  {
   "cell_type": "code",
   "execution_count": 13,
   "metadata": {},
   "outputs": [
    {
     "name": "stdout",
     "output_type": "stream",
     "text": [
      "(6550, 1501) (6550,)\n",
      "[[  164157.90455088   164021.98428511   163993.1906926  ...\n",
      "   1436957.4279619   2302674.24218565  3865074.88949253]\n",
      " [  190297.06565037   190236.18145072   190231.75627034 ...\n",
      "   1985363.47713212  3187810.59719948  5394782.02018845]\n",
      " [  837830.48019619   837494.49519003   837427.57830398 ...\n",
      "   5466329.79013708  8758546.91154938 14707370.37369955]\n",
      " ...\n",
      " [   85520.5087498     85443.39271763    85429.69634149 ...\n",
      "   1298595.62632109  2082636.59536096  3509080.27339308]\n",
      " [   84093.26684977    84021.15068058    84006.4086329  ...\n",
      "   1313157.54881271  2112748.27641516  3620828.19454534]\n",
      " [  129053.6598301    128955.02618756   128939.3761181  ...\n",
      "   1894921.07232981  3045640.62897764  5208710.03859216]]\n",
      "[array([[0.20473],\n",
      "       [0.3203 ],\n",
      "       [0.68052],\n",
      "       [0.4276 ],\n",
      "       [0.98298],\n",
      "       [1.9435 ]])\n",
      " array([[0.47146],\n",
      "       [0.72686],\n",
      "       [0.81404],\n",
      "       [1.0459 ],\n",
      "       [0.36418],\n",
      "       [1.7463 ]])\n",
      " array([[0.50377 ],\n",
      "       [0.080549],\n",
      "       [1.63    ],\n",
      "       [1.0366  ],\n",
      "       [0.16006 ],\n",
      "       [0.49445 ]])\n",
      " ...\n",
      " array([[0.6016 ],\n",
      "       [0.68959],\n",
      "       [1.5111 ],\n",
      "       [0.85503],\n",
      "       [1.608  ],\n",
      "       [1.6664 ]])\n",
      " array([[0.30352],\n",
      "       [0.81172],\n",
      "       [1.5405 ],\n",
      "       [0.78083],\n",
      "       [1.7186 ],\n",
      "       [1.5641 ]])\n",
      " array([[0.70426],\n",
      "       [0.70939],\n",
      "       [1.3116 ],\n",
      "       [0.94769],\n",
      "       [1.9943 ],\n",
      "       [1.031  ]])]\n"
     ]
    },
    {
     "ename": "ValueError",
     "evalue": "cannot reshape array of size 6550 into shape (6)",
     "output_type": "error",
     "traceback": [
      "\u001b[1;31m---------------------------------------------------------------------------\u001b[0m",
      "\u001b[1;31mValueError\u001b[0m                                Traceback (most recent call last)",
      "\u001b[1;32m<ipython-input-13-3af63f97d30a>\u001b[0m in \u001b[0;36m<module>\u001b[1;34m\u001b[0m\n\u001b[0;32m      6\u001b[0m \u001b[0mx\u001b[0m \u001b[1;33m=\u001b[0m \u001b[0mx\u001b[0m\u001b[1;33m.\u001b[0m\u001b[0mastype\u001b[0m\u001b[1;33m(\u001b[0m\u001b[0mnp\u001b[0m\u001b[1;33m.\u001b[0m\u001b[0mfloat\u001b[0m\u001b[1;33m)\u001b[0m\u001b[1;33m\u001b[0m\u001b[1;33m\u001b[0m\u001b[0m\n\u001b[0;32m      7\u001b[0m \u001b[0mx\u001b[0m \u001b[1;33m=\u001b[0m \u001b[0mx\u001b[0m\u001b[1;33m.\u001b[0m\u001b[0mreshape\u001b[0m\u001b[1;33m(\u001b[0m\u001b[1;33m-\u001b[0m\u001b[1;36m1\u001b[0m\u001b[1;33m,\u001b[0m\u001b[1;36m1501\u001b[0m\u001b[1;33m)\u001b[0m\u001b[1;33m\u001b[0m\u001b[1;33m\u001b[0m\u001b[0m\n\u001b[1;32m----> 8\u001b[1;33m \u001b[0my\u001b[0m \u001b[1;33m=\u001b[0m \u001b[0my\u001b[0m\u001b[1;33m.\u001b[0m\u001b[0mreshape\u001b[0m\u001b[1;33m(\u001b[0m\u001b[1;33m-\u001b[0m\u001b[1;36m1\u001b[0m\u001b[1;33m,\u001b[0m\u001b[1;36m6\u001b[0m\u001b[1;33m)\u001b[0m\u001b[1;33m\u001b[0m\u001b[1;33m\u001b[0m\u001b[0m\n\u001b[0m\u001b[0;32m      9\u001b[0m \u001b[0mprint\u001b[0m\u001b[1;33m(\u001b[0m\u001b[0mx\u001b[0m\u001b[1;33m.\u001b[0m\u001b[0mshape\u001b[0m\u001b[1;33m,\u001b[0m\u001b[0my\u001b[0m\u001b[1;33m.\u001b[0m\u001b[0mshape\u001b[0m\u001b[1;33m)\u001b[0m\u001b[1;33m\u001b[0m\u001b[1;33m\u001b[0m\u001b[0m\n\u001b[0;32m     10\u001b[0m \u001b[1;33m\u001b[0m\u001b[0m\n",
      "\u001b[1;31mValueError\u001b[0m: cannot reshape array of size 6550 into shape (6)"
     ]
    }
   ],
   "source": [
    "x = np.array(x)\n",
    "y = np.array(y)\n",
    "print(x.shape,y.shape)\n",
    "print(x)\n",
    "print(y)\n",
    "x = x.astype(np.float)\n",
    "x = x.reshape(-1,1501)\n",
    "y = y.reshape(-1,6)\n",
    "print(x.shape,y.shape)\n",
    "\n",
    "x = TSNE(n_components=30,method='exact').fit_transform(x)\n",
    "print(x.shape,y.shape)\n",
    "from sklearn.model_selection import train_test_split\n",
    "x_train,x_test,y_train,y_test = train_test_split(x,y,test_size=0.2)"
   ]
  },
  {
   "cell_type": "code",
   "execution_count": null,
   "metadata": {},
   "outputs": [],
   "source": [
    "model.compile(optimizer=SGD(lr=0.01,momentum=0.9), loss='mean_squared_error', metrics = ['RootMeanSquaredError'])\n",
    "history = model.fit(x=x_train,y=y_train,epochs=150,verbose=2,validation_split=0.2,batch_size=8)"
   ]
  },
  {
   "cell_type": "code",
   "execution_count": null,
   "metadata": {},
   "outputs": [],
   "source": [
    "model.evaluate(x=x_test,y=y_test)\n",
    "y_pred = model.predict(x_test)\n",
    "print(explained_variance_score(y_test,y_pred))"
   ]
  },
  {
   "cell_type": "code",
   "execution_count": null,
   "metadata": {},
   "outputs": [],
   "source": [
    "loss = history.history['loss']\n",
    "val_loss = history.history['val_loss']\n",
    "epochs = range(1,151)\n",
    "plt.plot(epochs, loss, 'g', label='loss')\n",
    "plt.plot(epochs, val_loss, 'r', label='val_loss')\n",
    "plt.xlabel('Epochs')\n",
    "plt.ylabel('Loss')\n",
    "plt.legend()\n",
    "plt.show()"
   ]
  },
  {
   "cell_type": "code",
   "execution_count": null,
   "metadata": {},
   "outputs": [],
   "source": [
    "import matplotlib.pyplot as plt\n",
    "RootMeanSquaredError = history.history['RootMeanSquaredError']\n",
    "val_RootMeanSquaredError = history.history['val_RootMeanSquaredError']\n",
    "epochs = range(1,151)\n",
    "plt.plot(epochs, RootMeanSquaredError, 'g', label='RootMeanSquaredError')\n",
    "plt.plot(epochs, val_RootMeanSquaredError, 'r', label='val_RootMeanSquaredError')\n",
    "plt.xlabel('Epochs')\n",
    "plt.ylabel('accuracy')\n",
    "plt.legend()\n",
    "plt.show()"
   ]
  },
  {
   "cell_type": "code",
   "execution_count": null,
   "metadata": {},
   "outputs": [],
   "source": [
    "check = []\n",
    "test = pd.read_csv(r'C:\\Users\\Rohit Varre\\Desktop\\check\\check.csv')\n",
    "test = test.iloc[7:]\n",
    "test.drop('% Model', axis = 1,inplace= True)\n",
    "test.columns = ['']\n",
    "check.append(test.to_numpy())\n",
    "\n",
    "test = pd.read_csv(r'C:\\Users\\Rohit Varre\\Desktop\\check\\check1.csv')\n",
    "test = test.iloc[7:]\n",
    "test.drop('% Model', axis = 1,inplace= True)\n",
    "test.columns = ['']\n",
    "check.append(test.to_numpy())\n",
    "\n",
    "check = np.array(check)\n",
    "check = check.astype(np.float)\n",
    "check = check.reshape(-1,1501)\n",
    "\n",
    "print(check.shape)\n",
    "check = TSNE(n_components=30,method = 'exact').fit_transform(check)\n",
    "print(check.shape)"
   ]
  },
  {
   "cell_type": "code",
   "execution_count": null,
   "metadata": {},
   "outputs": [],
   "source": [
    "model.predict(x=check)"
   ]
  },
  {
   "cell_type": "code",
   "execution_count": null,
   "metadata": {},
   "outputs": [],
   "source": []
  }
 ],
 "metadata": {
  "kernelspec": {
   "display_name": "Python 3",
   "language": "python",
   "name": "python3"
  },
  "language_info": {
   "codemirror_mode": {
    "name": "ipython",
    "version": 3
   },
   "file_extension": ".py",
   "mimetype": "text/x-python",
   "name": "python",
   "nbconvert_exporter": "python",
   "pygments_lexer": "ipython3",
   "version": "3.9.1"
  }
 },
 "nbformat": 4,
 "nbformat_minor": 4
}
