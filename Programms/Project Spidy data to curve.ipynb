{
 "cells": [
  {
   "cell_type": "code",
   "execution_count": 49,
   "metadata": {},
   "outputs": [],
   "source": [
    "import os\n",
    "import pandas as pd\n",
    "import matplotlib.pyplot as plt"
   ]
  },
  {
   "cell_type": "code",
   "execution_count": 50,
   "metadata": {},
   "outputs": [
    {
     "data": {
      "text/html": [
       "<div>\n",
       "<style scoped>\n",
       "    .dataframe tbody tr th:only-of-type {\n",
       "        vertical-align: middle;\n",
       "    }\n",
       "\n",
       "    .dataframe tbody tr th {\n",
       "        vertical-align: top;\n",
       "    }\n",
       "\n",
       "    .dataframe thead th {\n",
       "        text-align: right;\n",
       "    }\n",
       "</style>\n",
       "<table border=\"1\" class=\"dataframe\">\n",
       "  <thead>\n",
       "    <tr style=\"text-align: right;\">\n",
       "      <th></th>\n",
       "      <th>x</th>\n",
       "      <th>y</th>\n",
       "    </tr>\n",
       "  </thead>\n",
       "  <tbody>\n",
       "    <tr>\n",
       "      <th>7</th>\n",
       "      <td>0.000000</td>\n",
       "      <td>5.717391e+08</td>\n",
       "    </tr>\n",
       "    <tr>\n",
       "      <th>8</th>\n",
       "      <td>0.001232</td>\n",
       "      <td>1.560650e+08</td>\n",
       "    </tr>\n",
       "    <tr>\n",
       "      <th>9</th>\n",
       "      <td>0.002464</td>\n",
       "      <td>-1.026274e+08</td>\n",
       "    </tr>\n",
       "    <tr>\n",
       "      <th>10</th>\n",
       "      <td>0.003696</td>\n",
       "      <td>2.011826e+08</td>\n",
       "    </tr>\n",
       "    <tr>\n",
       "      <th>11</th>\n",
       "      <td>0.004924</td>\n",
       "      <td>1.574122e+07</td>\n",
       "    </tr>\n",
       "  </tbody>\n",
       "</table>\n",
       "</div>"
      ],
      "text/plain": [
       "           x             y\n",
       "7   0.000000  5.717391e+08\n",
       "8   0.001232  1.560650e+08\n",
       "9   0.002464 -1.026274e+08\n",
       "10  0.003696  2.011826e+08\n",
       "11  0.004924  1.574122e+07"
      ]
     },
     "execution_count": 50,
     "metadata": {},
     "output_type": "execute_result"
    }
   ],
   "source": [
    "test = pd.read_csv(r'C:\\Users\\Rohit Varre\\Desktop\\Project Spidy\\stress\\stress296.csv')\n",
    "test = test.iloc[7:]\n",
    "test.columns = ['x','y']\n",
    "mini = test['y'].min()\n",
    "maxi = test['y'].max()\n",
    "test = test.astype(float)\n",
    "test.head()"
   ]
  },
  {
   "cell_type": "code",
   "execution_count": 51,
   "metadata": {},
   "outputs": [
    {
     "name": "stdout",
     "output_type": "stream",
     "text": [
      "7       57173.912416\n",
      "8       15606.499028\n",
      "9      -10262.741106\n",
      "10      20118.262460\n",
      "11       1574.122344\n",
      "            ...     \n",
      "1503       99.979338\n",
      "1504      148.798015\n",
      "1505      172.568517\n",
      "1506      280.228618\n",
      "1507      477.175446\n",
      "Name: y, Length: 1501, dtype: float64\n",
      "7         0.000000\n",
      "8         0.123188\n",
      "9         0.246376\n",
      "10        0.369564\n",
      "11        0.492410\n",
      "           ...    \n",
      "1503     99.876726\n",
      "1504     99.907609\n",
      "1505     99.938406\n",
      "1506     99.969203\n",
      "1507    100.000000\n",
      "Name: x, Length: 1501, dtype: float64\n",
      "-10262.74110644954 57173.912415849925\n"
     ]
    }
   ],
   "source": [
    "test['y'] = test['y']*0.0001\n",
    "test['x'] = test['x']*100\n",
    "print(test['y'])\n",
    "print(test['x'])\n",
    "mini = test['y'].min()\n",
    "maxi = test['y'].max()\n",
    "print(mini,maxi)"
   ]
  },
  {
   "cell_type": "code",
   "execution_count": 53,
   "metadata": {},
   "outputs": [
    {
     "data": {
      "image/png": "[encoded data removed]",
      "text/plain": [
       "<Figure size 432x288 with 1 Axes>"
      ]
     },
     "metadata": {
      "needs_background": "light"
     },
     "output_type": "display_data"
    }
   ],
   "source": [
    "plt.plot(test['x'],test['y'])\n",
    "plt.axis([0, 100, 0, 500])\n",
    "#plt.axis('off')\n",
    "#plt.savefig(r'C:\\Users\\Rohit Varre\\Desktop\\Project Spidy\\CNN data\\1.jpg')\n",
    "plt.show()"
   ]
  },
  {
   "cell_type": "code",
   "execution_count": null,
   "metadata": {},
   "outputs": [],
   "source": []
  }
 ],
 "metadata": {
  "kernelspec": {
   "display_name": "Python 3",
   "language": "python",
   "name": "python3"
  },
  "language_info": {
   "codemirror_mode": {
    "name": "ipython",
    "version": 3
   },
   "file_extension": ".py",
   "mimetype": "text/x-python",
   "name": "python",
   "nbconvert_exporter": "python",
   "pygments_lexer": "ipython3",
   "version": "3.9.1"
  }
 },
 "nbformat": 4,
 "nbformat_minor": 4
}
